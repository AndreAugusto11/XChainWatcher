{
 "cells": [
  {
   "cell_type": "markdown",
   "metadata": {},
   "source": [
    "This playbook extracts the data from each blockchain of each bridge and stores it in the \"/data\" directory."
   ]
  },
  {
   "cell_type": "markdown",
   "metadata": {
    "vscode": {
     "languageId": "plaintext"
    }
   },
   "source": [
    "## Load Tx Receipts\n",
    "### Ronin Bridge"
   ]
  },
  {
   "cell_type": "code",
   "execution_count": 6,
   "metadata": {},
   "outputs": [],
   "source": [
    "import json\n",
    "\n",
    "ronin_txs_interval = \"./ronin-bridge/ronin/data/logs-01Jan-28Apr-deps/tx_receipts.json\"\n",
    "ronin_txs_interval_2 = \"./ronin-bridge/ronin/data/logs-01Jan-28Apr-withds/tx_receipts.json\"\n",
    "ronin_txs_additional_before = \"./ronin-bridge/ronin/data/logs-13Sep-31Dec/tx_receipts.json\"\n",
    "\n",
    "ethereum_txs_interval = \"./ronin-bridge/ethereum/data/logs-01Jan-28Apr/unique_tx_receipts.json\"\n",
    "ethereum_txs_additional_before = \"./ronin-bridge/ethereum/data/logs-13Sep-31Dec/deposit_receipts.json\"\n",
    "ethereum_txs_additional_after = \"./ronin-bridge/ethereum/data/logs-28Apr-today/withdrawal_receipts.json\"\n",
    "\n",
    "destination_path = \"../data/ronin-bridge/tx_receipts/ronin_selected_interval.json\"\n",
    "with open(destination_path, 'w') as outfile:\n",
    "    with open(ronin_txs_interval, 'r') as infile:\n",
    "        json1 = json.load(infile)\n",
    "    with open(ronin_txs_interval_2, 'r') as infile:\n",
    "        json2 = json.load(infile)\n",
    "\n",
    "    json1.extend(json2)\n",
    "\n",
    "    json.dump(json1, outfile, indent=4)\n",
    "\n",
    "destination_path = \"../data/ronin-bridge/tx_receipts/ronin_before_interval.json\"\n",
    "with open(destination_path, 'w') as outfile:\n",
    "    with open(ronin_txs_additional_before, 'r') as infile:\n",
    "        outfile.write(infile.read())\n",
    "\n",
    "destination_path = \"../data/ronin-bridge/tx_receipts/ethereum_selected_interval.json\"\n",
    "with open(destination_path, 'w') as outfile:\n",
    "    with open(ethereum_txs_interval, 'r') as infile:\n",
    "        outfile.write(infile.read())\n",
    "\n",
    "destination_path = \"../data/ronin-bridge/tx_receipts/ethereum_before_interval.json\"\n",
    "with open(destination_path, 'w') as outfile:\n",
    "    with open(ethereum_txs_additional_before, 'r') as infile:\n",
    "        outfile.write(infile.read())\n",
    "\n",
    "destination_path = \"../data/ronin-bridge/tx_receipts/ethereum_after_interval.json\"\n",
    "with open(destination_path, 'w') as outfile:\n",
    "    with open(ethereum_txs_additional_after, 'r') as infile:\n",
    "        outfile.write(infile.read())"
   ]
  },
  {
   "cell_type": "markdown",
   "metadata": {},
   "source": [
    "### Nomad Bridge"
   ]
  },
  {
   "cell_type": "code",
   "execution_count": 7,
   "metadata": {},
   "outputs": [],
   "source": [
    "import json\n",
    "\n",
    "moonbeam_txs_interval = \"./nomad-bridge/moonbeam/data/logs-11Jan-14Dec-deps/unique_tx_receipts.json\"\n",
    "moonbeam_txs_interval_2 = \"./nomad-bridge/moonbeam/data/logs-11Jan-14Dec-withds/unique_tx_receipts.json\"\n",
    "\n",
    "ethereum_txs_interval = \"./nomad-bridge/ethereum/data/logs-11Jan-14Dec/unique_tx_receipts.json\"\n",
    "ethereum_txs_additional_after = \"./nomad-bridge/ethereum/data/logs-14Dec-today/unique_tx_receipts.json\"\n",
    "\n",
    "destination_path = \"../data/nomad-bridge/tx_receipts/moonbeam_selected_interval.json\"\n",
    "\n",
    "with open(destination_path, 'w') as outfile:\n",
    "    with open(moonbeam_txs_interval, 'r') as infile:\n",
    "        json1 = json.load(infile)\n",
    "    with open(moonbeam_txs_interval_2, 'r') as infile:\n",
    "        json2 = json.load(infile)\n",
    "\n",
    "    json1.extend(json2)\n",
    "\n",
    "    json.dump(json1, outfile, indent=4)\n",
    "\n",
    "destination_path = \"../data/nomad-bridge/tx_receipts/ethereum_selected_interval.json\"\n",
    "with open(destination_path, 'w') as outfile:\n",
    "    with open(ethereum_txs_interval, 'r') as infile:\n",
    "        outfile.write(infile.read())\n",
    "\n",
    "destination_path = \"../data/nomad-bridge/tx_receipts/ethereum_after_interval.json\"\n",
    "with open(destination_path, 'w') as outfile:\n",
    "    with open(ethereum_txs_additional_after, 'r') as infile:\n",
    "        outfile.write(infile.read())"
   ]
  },
  {
   "cell_type": "markdown",
   "metadata": {},
   "source": [
    "### Confirm all Tx Numbers"
   ]
  },
  {
   "cell_type": "markdown",
   "metadata": {},
   "source": [
    "#### Ronin Bridge"
   ]
  },
  {
   "cell_type": "code",
   "execution_count": 8,
   "metadata": {},
   "outputs": [
    {
     "name": "stdout",
     "output_type": "stream",
     "text": [
      "../data/ronin-bridge/tx_receipts/ronin_selected_interval.json 75102\n",
      "../data/ronin-bridge/tx_receipts/ronin_before_interval.json 151323\n",
      "../data/ronin-bridge/tx_receipts/ethereum_selected_interval.json 53601\n",
      "../data/ronin-bridge/tx_receipts/ethereum_before_interval.json 459299\n",
      "../data/ronin-bridge/tx_receipts/ethereum_after_interval.json 19482\n"
     ]
    }
   ],
   "source": [
    "import json\n",
    "\n",
    "destination_path = \"../data/ronin-bridge/tx_receipts/ronin_selected_interval.json\"\n",
    "with open(destination_path, 'r') as infile:\n",
    "    json_data = json.load(infile)\n",
    "    print(destination_path, len(json_data))\n",
    "\n",
    "destination_path = \"../data/ronin-bridge/tx_receipts/ronin_before_interval.json\"\n",
    "with open(destination_path, 'r') as infile:\n",
    "    json_data = json.load(infile)\n",
    "    print(destination_path, len(json_data))\n",
    "\n",
    "destination_path = \"../data/ronin-bridge/tx_receipts/ethereum_selected_interval.json\"\n",
    "with open(destination_path, 'r') as infile:\n",
    "    json_data = json.load(infile)\n",
    "    print(destination_path, len(json_data))\n",
    "\n",
    "destination_path = \"../data/ronin-bridge/tx_receipts/ethereum_before_interval.json\"\n",
    "with open(destination_path, 'r') as infile:\n",
    "    json_data = json.load(infile)\n",
    "    print(destination_path, len(json_data))\n",
    "    \n",
    "destination_path = \"../data/ronin-bridge/tx_receipts/ethereum_after_interval.json\"\n",
    "with open(destination_path, 'r') as infile:\n",
    "    json_data = json.load(infile)\n",
    "    print(destination_path, len(json_data))"
   ]
  },
  {
   "cell_type": "markdown",
   "metadata": {},
   "source": [
    "#### Nomad Bridge"
   ]
  },
  {
   "cell_type": "code",
   "execution_count": 9,
   "metadata": {},
   "outputs": [
    {
     "name": "stdout",
     "output_type": "stream",
     "text": [
      "../data/nomad-bridge/tx_receipts/moonbeam_selected_interval.json 13545\n",
      "../data/nomad-bridge/tx_receipts/ethereum_selected_interval.json 35967\n",
      "../data/nomad-bridge/tx_receipts/ethereum_after_interval.json 1779\n"
     ]
    }
   ],
   "source": [
    "import json\n",
    "\n",
    "destination_path = \"../data/nomad-bridge/tx_receipts/moonbeam_selected_interval.json\"\n",
    "with open(destination_path, 'r') as infile:\n",
    "    json_data = json.load(infile)\n",
    "    print(destination_path, len(json_data))\n",
    "\n",
    "destination_path = \"../data/nomad-bridge/tx_receipts/ethereum_selected_interval.json\"\n",
    "with open(destination_path, 'r') as infile:\n",
    "    json_data = json.load(infile)\n",
    "    print(destination_path, len(json_data))\n",
    "\n",
    "destination_path = \"../data/nomad-bridge/tx_receipts/ethereum_after_interval.json\"\n",
    "with open(destination_path, 'r') as infile:\n",
    "    json_data = json.load(infile)\n",
    "    print(destination_path, len(json_data))"
   ]
  },
  {
   "cell_type": "code",
   "execution_count": null,
   "metadata": {},
   "outputs": [],
   "source": [
    "## Load Block Data\n",
    "### Ronin Bridge"
   ]
  },
  {
   "cell_type": "code",
   "execution_count": 12,
   "metadata": {},
   "outputs": [],
   "source": [
    "import pandas as pd\n",
    "\n",
    "blocks_ronin_1 = \"./ronin-bridge/ronin/data/logs-01Jan-28Apr-deps/blocks.csv\"\n",
    "blocks_ronin_2 = \"./ronin-bridge/ronin/data/logs-01Jan-28Apr-withds/blocks.csv\"\n",
    "blocks_ronin_3 = \"./ronin-bridge/ronin/data/logs-13Sep-31Dec/blocks.csv\"\n",
    "\n",
    "df_blocks_ronin_1 = pd.read_csv(blocks_ronin_1)\n",
    "df_blocks_ronin_2 = pd.read_csv(blocks_ronin_2)\n",
    "df_blocks_ronin_3 = pd.read_csv(blocks_ronin_3)\n",
    "\n",
    "df_blocks_ronin = pd.concat([df_blocks_ronin_1, df_blocks_ronin_2, df_blocks_ronin_3])\n",
    "\n",
    "destination_path = \"../data/ronin-bridge/blocks/ronin.csv\"\n",
    "df_blocks_ronin.to_csv(destination_path)\n",
    "\n",
    "\n",
    "blocks_ethereum_1 = \"./ronin-bridge/ethereum/data/logs-01Jan-28Apr/blocks.csv\"\n",
    "blocks_ethereum_2 = \"./ronin-bridge/ethereum/data/logs-13Sep-31Dec/blocks.csv\"\n",
    "blocks_ethereum_3 = \"./ronin-bridge/ethereum/data/logs-28Apr-today/blocks.csv\"\n",
    "\n",
    "\n",
    "df_blocks_ethereum_1 = pd.read_csv(blocks_ethereum_1)\n",
    "df_blocks_ethereum_2 = pd.read_csv(blocks_ethereum_2)\n",
    "df_blocks_ethereum_3 = pd.read_csv(blocks_ethereum_3)\n",
    "\n",
    "df_blocks_ethereum = pd.concat([df_blocks_ethereum_1, df_blocks_ethereum_2, df_blocks_ethereum_3])\n",
    "\n",
    "destination_path = \"../data/ronin-bridge/blocks/ethereum.csv\"\n",
    "df_blocks_ethereum.to_csv(destination_path)\n"
   ]
  },
  {
   "cell_type": "markdown",
   "metadata": {},
   "source": [
    "### Nomad Bridge"
   ]
  },
  {
   "cell_type": "code",
   "execution_count": 13,
   "metadata": {},
   "outputs": [],
   "source": [
    "import pandas as pd\n",
    "\n",
    "blocks_moonbeam_1 = \"./nomad-bridge/moonbeam/data/logs-11Jan-14Dec-deps/blocks.csv\"\n",
    "blocks_moonbeam_2 = \"./nomad-bridge/moonbeam/data/logs-11Jan-14Dec-withds/blocks.csv\"\n",
    "\n",
    "df_blocks_moonbeam_1 = pd.read_csv(blocks_moonbeam_1)\n",
    "df_blocks_moonbeam_2 = pd.read_csv(blocks_moonbeam_2)\n",
    "\n",
    "df_blocks_moonbeam = pd.concat([df_blocks_moonbeam_1, df_blocks_moonbeam_2])\n",
    "\n",
    "destination_path = \"../data/nomad-bridge/blocks/moonbeam.csv\"\n",
    "df_blocks_moonbeam.to_csv(destination_path)\n",
    "\n",
    "\n",
    "blocks_ethereum_1 = \"./nomad-bridge/ethereum/data/logs-11Jan-14Dec/blocks.csv\"\n",
    "blocks_ethereum_2 = \"./nomad-bridge/ethereum/data/logs-14Dec-today/blocks.csv\"\n",
    "\n",
    "df_blocks_ethereum_1 = pd.read_csv(blocks_ethereum_1)\n",
    "df_blocks_ethereum_2 = pd.read_csv(blocks_ethereum_2)\n",
    "\n",
    "df_blocks_ethereum = pd.concat([df_blocks_ethereum_1, df_blocks_ethereum_2])\n",
    "\n",
    "destination_path = \"../data/nomad-bridge/blocks/ethereum.csv\"\n",
    "df_blocks_ethereum.to_csv(destination_path)"
   ]
  },
  {
   "cell_type": "markdown",
   "metadata": {},
   "source": [
    "## Load Token Prices\n",
    "### Ronin Bridge"
   ]
  },
  {
   "cell_type": "code",
   "execution_count": 17,
   "metadata": {},
   "outputs": [],
   "source": [
    "import shutil\n",
    "import os\n",
    "\n",
    "source_path = \"../token-price-data/ronin-bridge/data/\"\n",
    "destination_path = \"../data/ronin-bridge/token_prices/\"\n",
    "\n",
    "files = os.listdir(source_path)\n",
    "for file in files:\n",
    "    if file.endswith(\".csv\"):\n",
    "        shutil.copy(os.path.join(source_path, file), destination_path)\n"
   ]
  },
  {
   "cell_type": "code",
   "execution_count": 18,
   "metadata": {},
   "outputs": [],
   "source": [
    "import shutil\n",
    "import os\n",
    "\n",
    "source_path = \"../token-price-data/nomad-bridge/data/\"\n",
    "destination_path = \"../data/nomad-bridge/token_prices/\"\n",
    "\n",
    "files = os.listdir(source_path)\n",
    "for file in files:\n",
    "    if file.endswith(\".csv\"):\n",
    "        shutil.copy(os.path.join(source_path, file), destination_path)\n"
   ]
  }
 ],
 "metadata": {
  "kernelspec": {
   "display_name": "Python 3",
   "language": "python",
   "name": "python3"
  },
  "language_info": {
   "codemirror_mode": {
    "name": "ipython",
    "version": 3
   },
   "file_extension": ".py",
   "mimetype": "text/x-python",
   "name": "python",
   "nbconvert_exporter": "python",
   "pygments_lexer": "ipython3",
   "version": "3.10.13"
  }
 },
 "nbformat": 4,
 "nbformat_minor": 2
}
