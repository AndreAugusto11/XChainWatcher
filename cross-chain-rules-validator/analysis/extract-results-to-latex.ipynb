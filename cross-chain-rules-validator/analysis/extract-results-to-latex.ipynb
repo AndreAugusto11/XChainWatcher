{
 "cells": [
  {
   "cell_type": "code",
   "execution_count": 56,
   "id": "10eb6f5e",
   "metadata": {},
   "outputs": [
    {
     "name": "stdout",
     "output_type": "stream",
     "text": [
      "Requirement already satisfied: pandas in /opt/homebrew/lib/python3.10/site-packages (2.2.2)\n",
      "Requirement already satisfied: matplotlib in /opt/homebrew/lib/python3.10/site-packages (3.9.0)\n",
      "Requirement already satisfied: python-dotenv in /opt/homebrew/lib/python3.10/site-packages (1.0.1)\n",
      "Requirement already satisfied: requests in /opt/homebrew/lib/python3.10/site-packages (2.32.3)\n",
      "Requirement already satisfied: numpy>=1.22.4 in /opt/homebrew/lib/python3.10/site-packages (from pandas) (1.26.4)\n",
      "Requirement already satisfied: python-dateutil>=2.8.2 in /Users/andre/Library/Python/3.10/lib/python/site-packages (from pandas) (2.8.2)\n",
      "Requirement already satisfied: pytz>=2020.1 in /opt/homebrew/lib/python3.10/site-packages (from pandas) (2024.1)\n",
      "Requirement already satisfied: tzdata>=2022.7 in /opt/homebrew/lib/python3.10/site-packages (from pandas) (2024.1)\n",
      "Requirement already satisfied: contourpy>=1.0.1 in /opt/homebrew/lib/python3.10/site-packages (from matplotlib) (1.2.1)\n",
      "Requirement already satisfied: cycler>=0.10 in /opt/homebrew/lib/python3.10/site-packages (from matplotlib) (0.12.1)\n",
      "Requirement already satisfied: fonttools>=4.22.0 in /opt/homebrew/lib/python3.10/site-packages (from matplotlib) (4.53.0)\n",
      "Requirement already satisfied: kiwisolver>=1.3.1 in /opt/homebrew/lib/python3.10/site-packages (from matplotlib) (1.4.5)\n",
      "Requirement already satisfied: packaging>=20.0 in /Users/andre/Library/Python/3.10/lib/python/site-packages (from matplotlib) (23.2)\n",
      "Requirement already satisfied: pillow>=8 in /opt/homebrew/lib/python3.10/site-packages (from matplotlib) (10.3.0)\n",
      "Requirement already satisfied: pyparsing>=2.3.1 in /opt/homebrew/lib/python3.10/site-packages (from matplotlib) (3.1.2)\n",
      "Requirement already satisfied: charset-normalizer<4,>=2 in /opt/homebrew/lib/python3.10/site-packages (from requests) (3.3.2)\n",
      "Requirement already satisfied: idna<4,>=2.5 in /opt/homebrew/lib/python3.10/site-packages (from requests) (3.7)\n",
      "Requirement already satisfied: urllib3<3,>=1.21.1 in /opt/homebrew/lib/python3.10/site-packages (from requests) (2.2.1)\n",
      "Requirement already satisfied: certifi>=2017.4.17 in /opt/homebrew/lib/python3.10/site-packages (from requests) (2024.6.2)\n",
      "Requirement already satisfied: six>=1.5 in /Users/andre/Library/Python/3.10/lib/python/site-packages (from python-dateutil>=2.8.2->pandas) (1.16.0)\n",
      "\n",
      "\u001b[1m[\u001b[0m\u001b[34;49mnotice\u001b[0m\u001b[1;39;49m]\u001b[0m\u001b[39;49m A new release of pip is available: \u001b[0m\u001b[31;49m23.2.1\u001b[0m\u001b[39;49m -> \u001b[0m\u001b[32;49m24.2\u001b[0m\n",
      "\u001b[1m[\u001b[0m\u001b[34;49mnotice\u001b[0m\u001b[1;39;49m]\u001b[0m\u001b[39;49m To update, run: \u001b[0m\u001b[32;49mpython3.10 -m pip install --upgrade pip\u001b[0m\n",
      "Note: you may need to restart the kernel to use updated packages.\n"
     ]
    }
   ],
   "source": [
    "pip install pandas matplotlib python-dotenv requests;"
   ]
  },
  {
   "cell_type": "code",
   "execution_count": 57,
   "id": "67021ea9",
   "metadata": {},
   "outputs": [],
   "source": [
    "import pandas as pd\n",
    "\n",
    "def add_metrics_to_latex_file(bridge_name, rule, value):\n",
    "    with open(f'./{bridge_name}/datalog-results.tex', 'a') as file:\n",
    "        line = \"\\\\newcommand{\\\\\" + rule + \"}{\" + str(value) + \"}\"\n",
    "        file.write(line + '\\n')"
   ]
  },
  {
   "cell_type": "markdown",
   "id": "e88d2710",
   "metadata": {},
   "source": [
    "## Comparison with CCTX data (Table XX)"
   ]
  },
  {
   "cell_type": "code",
   "execution_count": 58,
   "id": "efd91bf1",
   "metadata": {},
   "outputs": [],
   "source": [
    "def extractBridgeName(bridge_name):\n",
    "    bridge = bridge_name.split('-')[0]\n",
    "    return bridge[0].upper() + bridge[1:]\n",
    "\n",
    "def format_rule_name(rule_name):\n",
    "    rule_name = rule_name.replace(\"_\", \"\")\n",
    "    rule_name = rule_name.replace(\"20\", \"\")\n",
    "\n",
    "    return rule_name\n",
    "\n",
    "def extract_unmatched_metrics_for_latex(bridge_name, rule_name, rule_name_cctx, cctx_col_index, cctxs_df):\n",
    "    bridge = extractBridgeName(bridge_name)\n",
    "\n",
    "    df = pd.read_csv(f\"../datalog/{bridge_name}/results/{rule_name}.csv\", header=None, sep='\\t')\n",
    "    print(\"Captured:\", len(df))\n",
    "    add_metrics_to_latex_file(bridge_name, format_rule_name(rule_name) + bridge + \"Captured\", len(df))\n",
    "\n",
    "    cctxs_deposits_hashes = cctxs_df.iloc[:, cctx_col_index].tolist()\n",
    "\n",
    "    df = df[~df.iloc[:, 1].isin(cctxs_deposits_hashes)]\n",
    "    print(f\"Unmatched (# of {rule_name} not in {rule_name_cctx}):\", len(df))\n",
    "    add_metrics_to_latex_file(bridge_name, format_rule_name(rule_name) + bridge + \"Unmatched\", len(df))"
   ]
  },
  {
   "cell_type": "markdown",
   "id": "82215ab4",
   "metadata": {},
   "source": [
    "### CCTX_Deposit"
   ]
  },
  {
   "cell_type": "code",
   "execution_count": 59,
   "id": "255060f7",
   "metadata": {},
   "outputs": [
    {
     "name": "stdout",
     "output_type": "stream",
     "text": [
      "Number of CCTX_Deposit: 11254\n"
     ]
    }
   ],
   "source": [
    "cctxs_deposits = pd.read_csv(\"../datalog/nomad-bridge/results/CCTX_Deposit.csv\", header=None, sep='\\t')\n",
    "\n",
    "print(\"Number of CCTX_Deposit:\", len(cctxs_deposits))\n",
    "add_metrics_to_latex_file(\"nomad-bridge\", format_rule_name(\"CCTX_Deposit\") + extractBridgeName(\"nomad-bridge\") + \"Captured\", len(cctxs_deposits))\n",
    "add_metrics_to_latex_file(\"nomad-bridge\", format_rule_name(\"CCTX_Deposit\") + extractBridgeName(\"nomad-bridge\") + \"Unmatched\", \"--\")"
   ]
  },
  {
   "cell_type": "markdown",
   "id": "08056b42",
   "metadata": {},
   "source": [
    "### Source Chain Deposits"
   ]
  },
  {
   "cell_type": "code",
   "execution_count": 60,
   "id": "b6cab6c8",
   "metadata": {},
   "outputs": [
    {
     "name": "stdout",
     "output_type": "stream",
     "text": [
      "Captured: 7187\n",
      "Unmatched (# of SC_ValidNativeTokenDeposit not in CCTX_Deposit): 0\n"
     ]
    }
   ],
   "source": [
    "extract_unmatched_metrics_for_latex(\"nomad-bridge\", \"SC_ValidNativeTokenDeposit\", \"CCTX_Deposit\", 2, cctxs_deposits)"
   ]
  },
  {
   "cell_type": "code",
   "execution_count": 61,
   "id": "c885c4d6",
   "metadata": {},
   "outputs": [
    {
     "name": "stdout",
     "output_type": "stream",
     "text": [
      "Captured: 4068\n",
      "Unmatched (# of SC_ValidERC20TokenDeposit not in CCTX_Deposit): 1\n"
     ]
    }
   ],
   "source": [
    "extract_unmatched_metrics_for_latex(\"nomad-bridge\", \"SC_ValidERC20TokenDeposit\", \"CCTX_Deposit\", 2, cctxs_deposits)"
   ]
  },
  {
   "cell_type": "code",
   "execution_count": null,
   "id": "7935d865",
   "metadata": {},
   "outputs": [],
   "source": [
    "extract_unmatched_metrics_for_latex(\"ronin-bridge\", \"SC_ValidERC20TokenDeposit\", \"CCTX_Deposit\", 2, cctxs_deposits)"
   ]
  },
  {
   "cell_type": "markdown",
   "id": "d13ea5e6",
   "metadata": {},
   "source": [
    "### Target Chain Deposits"
   ]
  },
  {
   "cell_type": "code",
   "execution_count": 62,
   "id": "080c008a",
   "metadata": {},
   "outputs": [
    {
     "name": "stdout",
     "output_type": "stream",
     "text": [
      "Captured: 11263\n",
      "Unmatched (# of TC_ValidERC20TokenDeposit not in CCTX_Deposit): 9\n"
     ]
    }
   ],
   "source": [
    "extract_unmatched_metrics_for_latex(\"nomad-bridge\", \"TC_ValidERC20TokenDeposit\", \"CCTX_Deposit\", 5, cctxs_deposits)"
   ]
  },
  {
   "cell_type": "markdown",
   "id": "cb39508d",
   "metadata": {},
   "source": [
    "### CCTX_Withdrawal"
   ]
  },
  {
   "cell_type": "code",
   "execution_count": 63,
   "id": "898b3fa2",
   "metadata": {},
   "outputs": [
    {
     "name": "stdout",
     "output_type": "stream",
     "text": [
      "Number of CCTX_Withdrawal: 4450\n"
     ]
    }
   ],
   "source": [
    "cctxs_withdrawal = pd.read_csv(\"../datalog/nomad-bridge/results/CCTX_Withdrawal.csv\", header=None, sep='\\t')\n",
    "\n",
    "print(\"Number of CCTX_Withdrawal:\", len(cctxs_withdrawal))\n",
    "add_metrics_to_latex_file(\"nomad-bridge\", format_rule_name(\"CCTX_Withdrawal\") + extractBridgeName(\"nomad-bridge\") + \"Captured\", len(cctxs_withdrawal))\n",
    "add_metrics_to_latex_file(\"nomad-bridge\", format_rule_name(\"CCTX_Withdrawal\") + extractBridgeName(\"nomad-bridge\") + \"Unmatched\", \"--\")"
   ]
  },
  {
   "cell_type": "code",
   "execution_count": 64,
   "id": "076d8ecc",
   "metadata": {},
   "outputs": [
    {
     "name": "stdout",
     "output_type": "stream",
     "text": [
      "Captured: 4811\n",
      "Unmatched (# of TC_ValidERC20TokenWithdrawal not in CCTX_Withdrawal): 586\n"
     ]
    }
   ],
   "source": [
    "extract_unmatched_metrics_for_latex(\"nomad-bridge\", \"TC_ValidERC20TokenWithdrawal\", \"CCTX_Withdrawal\", 2, cctxs_withdrawal)"
   ]
  },
  {
   "cell_type": "code",
   "execution_count": 65,
   "id": "0a111c3f",
   "metadata": {},
   "outputs": [
    {
     "name": "stdout",
     "output_type": "stream",
     "text": [
      "Captured: 464\n",
      "Unmatched (# of TC_ValidNativeTokenWithdrawal not in CCTX_Withdrawal): 239\n"
     ]
    }
   ],
   "source": [
    "extract_unmatched_metrics_for_latex(\"nomad-bridge\", \"TC_ValidNativeTokenWithdrawal\", \"CCTX_Withdrawal\", 2, cctxs_withdrawal)"
   ]
  },
  {
   "cell_type": "code",
   "execution_count": 66,
   "id": "2c4a508d",
   "metadata": {},
   "outputs": [
    {
     "name": "stdout",
     "output_type": "stream",
     "text": [
      "Captured: 4869\n",
      "Unmatched (# of SC_ValidERC20TokenWithdrawal not in CCTX_Withdrawal): 419\n"
     ]
    }
   ],
   "source": [
    "extract_unmatched_metrics_for_latex(\"nomad-bridge\", \"SC_ValidERC20TokenWithdrawal\", \"CCTX_Withdrawal\", 5, cctxs_withdrawal)"
   ]
  }
 ],
 "metadata": {
  "kernelspec": {
   "display_name": "Python 3 (ipykernel)",
   "language": "python",
   "name": "python3"
  },
  "language_info": {
   "codemirror_mode": {
    "name": "ipython",
    "version": 3
   },
   "file_extension": ".py",
   "mimetype": "text/x-python",
   "name": "python",
   "nbconvert_exporter": "python",
   "pygments_lexer": "ipython3",
   "version": "3.10.13"
  }
 },
 "nbformat": 4,
 "nbformat_minor": 5
}
